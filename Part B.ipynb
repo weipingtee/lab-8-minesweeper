{
  "cells": [
    {
      "cell_type": "markdown",
      "metadata": {
        "id": "GI161GrZYply"
      },
      "source": [
        "<br>\n",
        "<h1 style = \"font-size:40px; font-family:luxury; font-weight:bold; text-align:center; border-radius:10px 15px;\">DELE Assignment 2 Part B</h1>\n",
        "<h1 style = \"font-size:40px; font-family:luxury; font-weight:bold; text-align:center; border-radius:10px 15px;\">Lunar Lander v2 using Reinforcemnet Learning</h1>\n",
        "\n",
        "<h2 style=\"font-family:luxury; text-align:center;\">Name: Sih Jia Qi (2036140) & Oh Li Ting (2019334) &nbsp;&nbsp;&nbsp; Class: DAAA/FT/2B/05</h2>\n",
        "<br>\n",
        "\n",
        "---"
      ]
    },
    {
      "cell_type": "markdown",
      "metadata": {
        "id": "PbJPlOqClOf_"
      },
      "source": [
        "# 1 Introduction\n",
        "\n",
        "## Reinforcement learning\n",
        "* The agent takes `actions` and `environment` gives `reward` based on those actions, The goal is to teach the agent optimal behavior in order to `maximize` the reward received by the environment.\n",
        "<img src=\"https://miro.medium.com/max/4918/1*Y0TDuXNyywjqqr5l5GkMQQ.png\">\n",
        "\n",
        "## Q-learning vs SARSA\n",
        "<img src=\"http://vinitsarode.weebly.com/uploads/1/0/3/7/103702208/screenshot-from-2018-07-08-02-28-03_orig.png\">\n",
        "\n",
        "* For QL, which is the `off-policy` algorithm, when passing the reward from the next state (s_, a_) to the current state, it takes the maximum possible reward of the new state (s_) and ignores whatever policy we are using. \n",
        "\n",
        "* Instead of using the Q value estimate for the newstate and the action that the agent took in that new state, it uses the Q value\n",
        "estimate that corresponds to the action that leads to the maximum obtainable Q value from that new state, S'.\n",
        "\n",
        "* For SARSA, which is on-policy, we still follow the policy (e-greedy), compute the next state (a_), and pass the reward corresponding to that exact a_ back the previous step."
      ]
    },
    {
      "cell_type": "markdown",
      "metadata": {
        "id": "PZBDe_XcYW6F"
      },
      "source": [
        "## How does the Lunar Lander work?\n",
        "* Landing pad is always at coordinates (0,0) (Coordinates are the first two numbers in state vector)\n",
        "\n",
        "* Reward for moving from the top of the screen to landing pad and zero speed is about 100..140 points \n",
        "\n",
        "* If lander moves away from landing pad it loses reward back\n",
        "\n",
        "* Episode finishes if the lander crashes or comes to rest, receiving additional -100 or +100 points\n",
        "\n",
        "* Each leg ground contact is +10\n",
        "\n",
        "* Firing main engine is -0.3 points each frame \n",
        "\n",
        "* Solved is 200 points\n",
        "\n",
        "* Landing outside landing pad is possible. Fuel is infinite, so an agent can learn to fly and then land on its first attempt.\n",
        "\n",
        "* For each state in the environment, teh agent takes an action based on its current state. Action space consists of four `discrete actions`: \n",
        "> 0: `do nothing`\n",
        ">\n",
        "> 1: `fire left` engine\n",
        ">\n",
        "> 2: `fire main` engine\n",
        ">\n",
        "> 3: `fire right` engine"
      ]
    },
    {
      "cell_type": "code",
      "execution_count": null,
      "metadata": {
        "colab": {
          "base_uri": "https://localhost:8080/"
        },
        "id": "hjDdIrWAtGmJ",
        "outputId": "9a4e1b7d-597c-49c6-bc40-77fe53d22314"
      },
      "outputs": [
        {
          "name": "stdout",
          "output_type": "stream",
          "text": [
            "Requirement already satisfied: box2d-py in /usr/local/lib/python3.7/dist-packages (2.3.8)\n",
            "Requirement already satisfied: gym[Box_2D] in /usr/local/lib/python3.7/dist-packages (0.17.3)\n",
            "\u001b[33mWARNING: gym 0.17.3 does not provide the extra 'box_2d'\u001b[0m\n",
            "Requirement already satisfied: scipy in /usr/local/lib/python3.7/dist-packages (from gym[Box_2D]) (1.4.1)\n",
            "Requirement already satisfied: cloudpickle<1.7.0,>=1.2.0 in /usr/local/lib/python3.7/dist-packages (from gym[Box_2D]) (1.3.0)\n",
            "Requirement already satisfied: pyglet<=1.5.0,>=1.4.0 in /usr/local/lib/python3.7/dist-packages (from gym[Box_2D]) (1.5.0)\n",
            "Requirement already satisfied: numpy>=1.10.4 in /usr/local/lib/python3.7/dist-packages (from gym[Box_2D]) (1.19.5)\n",
            "Requirement already satisfied: future in /usr/local/lib/python3.7/dist-packages (from pyglet<=1.5.0,>=1.4.0->gym[Box_2D]) (0.16.0)\n"
          ]
        }
      ],
      "source": [
        "!pip3 install box2d-py\n",
        "!pip3 install gym[Box_2D]"
      ]
    },
    {
      "cell_type": "markdown",
      "metadata": {
        "id": "cVLnjaK6SyjJ"
      },
      "source": [
        "## Importing libraries"
      ]
    },
    {
      "cell_type": "code",
      "execution_count": null,
      "metadata": {
        "id": "CupBjeaGCc70"
      },
      "outputs": [],
      "source": [
        "import gym\n",
        "import random\n",
        "import torch\n",
        "import torch.nn as nn\n",
        "import torch.nn.functional as F\n",
        "import torch.optim as optim\n",
        "import matplotlib.pyplot as plt\n",
        "import base64, io\n",
        "\n",
        "import numpy as np\n",
        "from collections import deque, namedtuple\n",
        "\n",
        "# for visualization\n",
        "from gym.wrappers.monitoring import video_recorder\n",
        "from IPython.display import HTML\n",
        "from IPython import display \n",
        "import glob"
      ]
    },
    {
      "cell_type": "code",
      "execution_count": null,
      "metadata": {
        "colab": {
          "base_uri": "https://localhost:8080/"
        },
        "id": "Zd7I4-YyCgya",
        "outputId": "e6288ecc-e8b7-4117-a7ed-294da4b34602"
      },
      "outputs": [
        {
          "name": "stdout",
          "output_type": "stream",
          "text": [
            "State shape:  (8,)\n",
            "Number of actions:  4\n"
          ]
        }
      ],
      "source": [
        "env = gym.make('LunarLander-v2')\n",
        "env.seed(0)\n",
        "\n",
        "print('State shape: ', env.observation_space.shape)\n",
        "print('Number of actions: ', env.action_space.n)"
      ]
    },
    {
      "cell_type": "markdown",
      "metadata": {
        "id": "E4Ftnk_xS4YX"
      },
      "source": [
        "#2 Model Training and Evaluation\n",
        "* Agent: Interacts with and learns from the environment.\n",
        "> The agent’s goal is to find a sequence of actions that will `maximize` the sum of rewards during the course of an episode of the agent.\n",
        "\n",
        "* Action-value function: \n",
        "> Use fixed-size buffer to store experience tuples.\n",
        ">\n",
        "> alpha = learning rate\n",
        ">\n",
        "> gamma = discount factor \n",
        "  * It quantifies how much `importance` we give for future rewards. It’s also handy to approximate the noise in future rewards. Gamma varies from 0 to 1. If Gamma is closer to zero, the agent will tend to consider only immediate rewards. If Gamma is closer to one, the agent will consider future rewards with greater weight, willing to delay the reward.\n",
        ">\n",
        ">epsilon = random factor, if we draw a random num < epsilon then we'll take a random action else, takes a greedy action (best known action given in some state)\n",
        ">\n",
        ">epsilon_end = min epsilon (not 0 because we do not knw if the greedy action is the best action, therefore we want to continue to explore during training)"
      ]
    },
    {
      "cell_type": "code",
      "execution_count": null,
      "metadata": {
        "id": "F25twERWCgve"
      },
      "outputs": [],
      "source": [
        "class QNetwork(nn.Module):\n",
        "    \"\"\"Actor (Policy) Model\"\"\"\n",
        "\n",
        "    def __init__(self, state_size, action_size, seed):\n",
        "        \"\"\"\n",
        "        Initialize parameters and build model\n",
        "        Params\n",
        "        ======\n",
        "            state_size (int): Dimension of each state\n",
        "            action_size (int): Dimension of each action\n",
        "            seed (int): Random seed\n",
        "        \"\"\"\n",
        "        super(QNetwork, self).__init__()\n",
        "        self.seed = torch.manual_seed(seed)\n",
        "        self.fc1 = nn.Linear(state_size, 64)\n",
        "        self.fc2 = nn.Linear(64, 64)\n",
        "        self.fc3 = nn.Linear(64, action_size)\n",
        "        \n",
        "    def forward(self, state):\n",
        "        \"\"\"Build a network that maps state -> action values\"\"\"\n",
        "        x = self.fc1(state)\n",
        "        x = F.relu(x)\n",
        "        x = self.fc2(x)\n",
        "        x = F.relu(x)\n",
        "        return self.fc3(x)"
      ]
    },
    {
      "cell_type": "code",
      "execution_count": null,
      "metadata": {
        "id": "rN51v-2BCgq7"
      },
      "outputs": [],
      "source": [
        "class Agent():\n",
        "    def __init__(self, state_size, seed, gamma, lr, update_every=4, TAU=1e-3, action_size=4, buffer_size=1000000, batch_size=64):\n",
        "        \"\"\"\n",
        "        Initialize an Agent object\n",
        "        \n",
        "        Params\n",
        "        ======\n",
        "            state_size (int): dimension of each state\n",
        "            action_size (int): dimension of each action\n",
        "            seed (int): random seed\n",
        "            gamma (float): discount factor (tells agent how much to discount feature rewards)\n",
        "            lr (float): learning rate\n",
        "            buffer_size (int): memmory size\n",
        "            batch_size (int): size of the batch\n",
        "            update_every (int): how often to update the network\n",
        "            TAU (float): for soft update of target parameters\n",
        "        \"\"\"\n",
        "        self.state_size = state_size\n",
        "        self.action_size = action_size\n",
        "        self.seed = random.seed(int(seed))\n",
        "        self.gamma = gamma\n",
        "        self.lr = lr\n",
        "        self.buffer_size = buffer_size\n",
        "        self.batch_size = batch_size\n",
        "        self.TAU = TAU\n",
        "        self.update_every = update_every\n",
        "\n",
        "        # Q-Network\n",
        "        self.qnetwork_local = QNetwork(self.state_size, self.action_size, seed).to(device)\n",
        "        self.qnetwork_target = QNetwork(self.state_size, self.action_size, seed).to(device)\n",
        "        self.optimizer = optim.Adam(self.qnetwork_local.parameters(), lr=self.lr)\n",
        "\n",
        "        # replay memory\n",
        "        self.memory = ReplayBuffer(self.action_size, self.buffer_size, self.batch_size, seed)\n",
        "        # initialize time step (for updating every update_every steps)\n",
        "        self.t_step = 0\n",
        "    \n",
        "    def step(self, state, action, reward, next_state, done):\n",
        "        # save experience in replay memory\n",
        "        self.memory.add(state, action, reward, next_state, done)\n",
        "        \n",
        "        # learn every update_every time steps\n",
        "        self.t_step = (self.t_step + 1) % self.update_every\n",
        "        if self.t_step == 0:\n",
        "            # if enough samples are available in memory, get random subset and learn\n",
        "            if len(self.memory) > self.batch_size:\n",
        "                experiences = self.memory.sample()\n",
        "                self.learn(experiences)\n",
        "\n",
        "    def act(self, state, eps=0.):\n",
        "        \"\"\"\n",
        "        Returns actions for given state as per current policy\n",
        "        \n",
        "        Params\n",
        "        ======\n",
        "            state (array_like): current state\n",
        "            eps (float): epsilon, for epsilon-greedy action selection\n",
        "        \"\"\"\n",
        "        state = torch.from_numpy(state).float().unsqueeze(0).to(device)\n",
        "        self.qnetwork_local.eval()\n",
        "        with torch.no_grad():\n",
        "            action_values = self.qnetwork_local(state)\n",
        "        self.qnetwork_local.train()\n",
        "\n",
        "        # Epsilon-greedy action selection\n",
        "        if random.random() > eps:\n",
        "            return np.argmax(action_values.cpu().data.numpy())\n",
        "        else:\n",
        "            return random.choice(np.arange(self.action_size))\n",
        "\n",
        "    def learn(self, experiences):\n",
        "        \"\"\"\n",
        "        Update parameters using given batch of experience tuples\n",
        "\n",
        "        Params\n",
        "        ======\n",
        "            experiences (Tuple[torch.Variable]): tuple of (s, a, r, s', done) tuples\n",
        "        \"\"\"\n",
        "        # obtain random minibatch of tuples from D\n",
        "        states, actions, rewards, next_states, dones = experiences\n",
        "\n",
        "        # compute and minimize the loss\n",
        "        # extract next maximum estimated value from target network\n",
        "        q_targets_next = self.qnetwork_target(next_states).detach().max(1)[0].unsqueeze(1)\n",
        "        # calculate target value from bellman equation\n",
        "        q_targets = rewards + self.gamma * q_targets_next * (1 - dones)\n",
        "        # calculate expected value from local network\n",
        "        q_expected = self.qnetwork_local(states).gather(1, actions)\n",
        "        \n",
        "        # loss calculation (we used Mean squared error)\n",
        "        loss = F.mse_loss(q_expected, q_targets)\n",
        "        self.optimizer.zero_grad()\n",
        "        loss.backward()\n",
        "        self.optimizer.step()\n",
        "\n",
        "        # update target network\n",
        "        self.soft_update(self.qnetwork_local, self.qnetwork_target, self.TAU)                     \n",
        "\n",
        "    def soft_update(self, local_model, target_model, tau):\n",
        "        \"\"\"\n",
        "        Soft update model parameters\n",
        "        θ_target = τ*θ_local + (1 - τ)*θ_target\n",
        "\n",
        "        Params\n",
        "        ======\n",
        "            local_model (PyTorch model): weights will be copied from\n",
        "            target_model (PyTorch model): weights will be copied to\n",
        "            tau (float): interpolation parameter \n",
        "        \"\"\"\n",
        "        for target_param, local_param in zip(target_model.parameters(), local_model.parameters()):\n",
        "            target_param.data.copy_(tau*local_param.data + (1.0-tau)*target_param.data)"
      ]
    },
    {
      "cell_type": "code",
      "execution_count": null,
      "metadata": {
        "id": "iMD_48ePCgot"
      },
      "outputs": [],
      "source": [
        "class ReplayBuffer:\n",
        "    def __init__(self, action_size, buffer_size, batch_size, seed):\n",
        "        \"\"\"\n",
        "        Initialize a ReplayBuffer object\n",
        "\n",
        "        Params\n",
        "        ======\n",
        "            action_size (int): dimension of each action (eg. 4)\n",
        "            buffer_size (int): maximum size of buffer\n",
        "            batch_size (int): size of each training batch\n",
        "            seed (int): random seed\n",
        "        \"\"\"\n",
        "        self.action_size = action_size\n",
        "        self.memory = deque(maxlen=buffer_size)  \n",
        "        self.batch_size = batch_size\n",
        "        self.experience = namedtuple(\"Experience\", field_names=[\"state\", \"action\", \"reward\", \"next_state\", \"done\"])\n",
        "        self.seed = random.seed(seed)\n",
        "    \n",
        "    def add(self, state, action, reward, next_state, done):\n",
        "        \"\"\"Add a new experience to memory\"\"\"\n",
        "        e = self.experience(state, action, reward, next_state, done)\n",
        "        self.memory.append(e)\n",
        "    \n",
        "    def sample(self):\n",
        "        \"\"\"Randomly sample a batch of experiences from memory\"\"\"\n",
        "        experiences = random.sample(self.memory, k=self.batch_size)\n",
        "\n",
        "        states = torch.from_numpy(np.vstack([e.state for e in experiences if e is not None])).float().to(device)\n",
        "        actions = torch.from_numpy(np.vstack([e.action for e in experiences if e is not None])).long().to(device)\n",
        "        rewards = torch.from_numpy(np.vstack([e.reward for e in experiences if e is not None])).float().to(device)\n",
        "        next_states = torch.from_numpy(np.vstack([e.next_state for e in experiences if e is not None])).float().to(device)\n",
        "        dones = torch.from_numpy(np.vstack([e.done for e in experiences if e is not None]).astype(np.uint8)).float().to(device)\n",
        "  \n",
        "        return (states, actions, rewards, next_states, dones)\n",
        "\n",
        "    def __len__(self):\n",
        "        \"\"\"Return the current size of internal memory.\"\"\"\n",
        "        return len(self.memory)"
      ]
    },
    {
      "cell_type": "code",
      "execution_count": null,
      "metadata": {
        "id": "Tst0UslFZMU9"
      },
      "outputs": [],
      "source": [
        "def dqn(n_episodes, max_t, eps_start, eps_end, eps_decay):\n",
        "    \"\"\"\n",
        "    Deep Q-Learning\n",
        "    \n",
        "    Params\n",
        "    ======\n",
        "        n_episodes (int): maximum number of training episodes\n",
        "        max_t (int): maximum number of timesteps per episode\n",
        "        eps_start (float): starting value of epsilon, for epsilon-greedy action selection\n",
        "        eps_end (float): minimum value of epsilon\n",
        "        eps_decay (float): multiplicative factor (per episode) for decreasing epsilon\n",
        "    \"\"\"\n",
        "    scores, avg_scores, goals = [], [], [] # list containing scores and average scores from each episode\n",
        "    scores_window = deque(maxlen=100)      # last 100 scores\n",
        "    goal = 200\n",
        "    eps = eps_start                        # initialize epsilon\n",
        "    for i_episode in range(1, n_episodes+1):\n",
        "        state = env.reset()\n",
        "        score = 0\n",
        "        for t in range(max_t):\n",
        "            env.render()\n",
        "            video_recorder.capture_frame()\n",
        "            action = agent.act(state, eps)\n",
        "            next_state, reward, done, _ = env.step(action)\n",
        "            agent.step(state, action, reward, next_state, done)\n",
        "            state = next_state\n",
        "            score += reward\n",
        "            if done:\n",
        "                break \n",
        "        scores_window.append(score)       # save most recent score\n",
        "        scores.append(score)              # save most recent score\n",
        "        avg_score = np.mean(scores[-100:])# store average scores\n",
        "        avg_scores.append(avg_score)\n",
        "        goals.append(goal)                # store goal\n",
        "        eps = max(eps_end, eps_decay*eps) # decrease epsilon\n",
        "\n",
        "        print('\\rEpisode {}\\tAverage Score: {:.2f}'.format(i_episode, np.mean(scores_window)), end=\"\")\n",
        "        if i_episode % 100 == 0:\n",
        "            print('\\rEpisode {}\\tAverage Score: {:.2f}'.format(i_episode, np.mean(scores_window)))\n",
        "        if np.mean(scores_window)>=250:               # target score to stop training\n",
        "            print('\\nEnvironment solved in {:d} episodes.\\tAverage Score: {:.2f}'.format(i_episode-100, np.mean(scores_window)))\n",
        "            torch.save(agent.qnetwork_local.state_dict(), 'checkpoint.pth')\n",
        "            break\n",
        "        # torch.save(agent.qnetwork_local.state_dict(), 'checkpoint.pth')  \n",
        "      \n",
        "    return scores, avg_scores, goals"
      ]
    },
    {
      "cell_type": "code",
      "execution_count": null,
      "metadata": {
        "id": "-g-Ho2fsayOQ"
      },
      "outputs": [],
      "source": [
        "torch.save(agent.qnetwork_local.state_dict(), 'checkpoint.pth')"
      ]
    },
    {
      "cell_type": "code",
      "execution_count": null,
      "metadata": {
        "colab": {
          "base_uri": "https://localhost:8080/"
        },
        "id": "KuXGIH-NbAsS",
        "outputId": "701fa98f-b253-44c1-8cb2-10646d30d438"
      },
      "outputs": [
        {
          "data": {
            "text/plain": [
              "OrderedDict([('fc1.weight',\n",
              "              tensor([[ 6.3507e-02, -4.2757e-01, -1.6183e+00, -9.7542e-01,  6.0339e-01,\n",
              "                        2.9525e-01,  1.7599e-01,  6.9212e-02],\n",
              "                      [-5.1497e-01, -1.6910e+00, -1.5493e+00, -5.3854e-01, -2.6074e-01,\n",
              "                       -3.1229e-01, -2.4328e-02, -5.4171e-01],\n",
              "                      [-3.9487e-01,  2.0255e-01,  5.0757e-02, -1.7409e-01,  9.0620e-01,\n",
              "                        5.4814e-01,  2.2936e-01,  4.7603e-01],\n",
              "                      [ 7.5743e-02,  2.2901e-01, -1.6780e-01, -7.6036e-02, -1.3042e+00,\n",
              "                       -2.0147e-01, -7.6364e-02,  1.2508e-01],\n",
              "                      [ 3.6861e-01, -1.8782e+00,  4.7654e-01, -1.4509e+00,  4.7226e-01,\n",
              "                       -9.0418e-03,  1.0077e-01,  6.0333e-02],\n",
              "                      [ 7.1226e-01, -6.3910e-01,  3.9137e-01, -8.4085e-01, -7.4822e-01,\n",
              "                       -1.7150e-01,  1.5146e-01, -3.7786e-03],\n",
              "                      [ 5.9972e-02, -1.4595e-02,  7.2122e-01,  2.1406e-01,  2.8647e-01,\n",
              "                        8.0234e-01,  3.3844e-01, -3.2754e-01],\n",
              "                      [ 4.3030e-01, -1.9410e-01,  5.3060e-01, -1.4215e+00, -4.6828e-01,\n",
              "                        5.1144e-02, -1.8073e-01, -1.2284e-01],\n",
              "                      [ 9.7337e-01, -5.2863e-01,  6.2874e-01, -5.0510e-01,  9.5866e-02,\n",
              "                        7.0162e-01, -4.6952e-01, -1.5075e-01],\n",
              "                      [ 7.6465e-01,  7.8459e-01,  4.4943e-01,  1.3718e+00, -1.1904e+00,\n",
              "                       -3.5857e-01, -4.2900e-01, -1.1757e+00],\n",
              "                      [-3.6547e-01,  5.6375e-01,  2.7660e-02, -6.2566e-02,  4.5411e-01,\n",
              "                        9.4213e-01,  4.3519e-01, -1.5857e-01],\n",
              "                      [-2.8944e-02,  1.2087e-01, -1.1477e+00,  8.7755e-01, -4.2366e-01,\n",
              "                        8.5706e-01, -6.0148e-01, -3.5390e-01],\n",
              "                      [-5.6493e-02, -2.8946e-02, -3.2449e-01, -7.3490e-01,  5.1345e-01,\n",
              "                        1.3603e+00,  7.9464e-02, -3.4047e-01],\n",
              "                      [-5.2690e-01, -2.4628e-01, -6.7898e-01, -6.4099e-01, -1.0825e+00,\n",
              "                       -6.6405e-01, -6.3878e-02, -1.5426e-02],\n",
              "                      [-3.3432e-01,  8.2965e-01,  6.5473e-02, -3.1637e-01, -8.3338e-03,\n",
              "                        2.4100e-01,  6.8403e-01,  3.8553e-03],\n",
              "                      [-8.8443e-02,  4.3841e-01, -1.7611e-01,  4.1596e-01, -2.0267e-01,\n",
              "                       -7.2491e-01, -6.4829e-01, -9.8546e-01],\n",
              "                      [ 2.6268e-01,  1.6080e-02,  1.6305e-02, -1.2235e+00, -7.5923e-01,\n",
              "                        7.1450e-02,  3.1680e-01, -9.1263e-02],\n",
              "                      [ 1.4178e-01, -3.5530e-01, -1.0246e-02,  1.2523e-01,  9.4853e-01,\n",
              "                        1.6846e-01,  1.2780e+00, -5.9250e-03],\n",
              "                      [-3.7155e-01, -1.1339e-01,  6.7315e-01, -7.7118e-01, -7.5173e-01,\n",
              "                       -1.1501e+00, -5.4292e-01,  3.8647e-01],\n",
              "                      [-8.3961e-01,  1.7448e-01,  1.6746e+00, -1.8321e+00,  6.1366e-01,\n",
              "                       -2.0630e-01,  1.8005e-01,  1.1151e-01],\n",
              "                      [ 1.5092e-01,  9.9650e-02, -2.7800e+00,  1.7442e-01,  2.2751e-02,\n",
              "                        1.6957e-02, -3.5105e-02, -5.4426e-01],\n",
              "                      [-9.5171e-01,  1.9451e-02,  4.6397e-01, -1.0719e+00, -6.4908e-02,\n",
              "                        7.4886e-01, -5.5628e-02,  4.9917e-01],\n",
              "                      [ 2.6016e-01, -1.0052e+00,  5.6088e-01, -1.5455e+00, -9.4774e-01,\n",
              "                       -1.3537e-01,  1.1659e-01,  3.3887e-01],\n",
              "                      [ 4.3372e-01,  5.4811e-01,  6.4347e-01, -4.6917e-01, -6.5240e-02,\n",
              "                        8.0074e-02,  3.4625e-01,  5.0332e-01],\n",
              "                      [-1.0889e-01,  3.6526e-02, -1.1565e+00, -4.0635e-01, -6.9379e-03,\n",
              "                       -5.5777e-01, -2.3814e-01, -3.5864e-01],\n",
              "                      [ 3.6744e-01,  9.3541e-01,  1.4727e-03, -1.2538e+00,  3.5669e-02,\n",
              "                       -3.8998e-02, -1.6503e-01,  5.9140e-01],\n",
              "                      [-2.0035e-02,  2.4970e-01, -2.9044e-01, -1.4695e+00, -4.5801e-01,\n",
              "                       -1.4625e-01,  5.8266e-02,  1.1897e-01],\n",
              "                      [ 4.5725e-01, -8.1990e-02,  1.4313e+00, -5.7343e-01, -8.8472e-01,\n",
              "                       -1.0690e-01,  5.2320e-01, -1.4464e-02],\n",
              "                      [ 1.8237e+00, -2.0546e-01, -9.0755e-02, -1.1786e+00,  4.3993e-01,\n",
              "                        1.1883e+00, -7.3135e-02,  2.6940e-01],\n",
              "                      [-3.6079e-01,  8.0053e-01,  1.2993e-01,  3.6346e-01, -4.9012e-01,\n",
              "                        1.3367e+00, -7.9523e-01,  2.1471e-01],\n",
              "                      [-5.3968e-01,  1.1476e+00, -1.1463e+00,  9.5495e-01,  3.7474e-01,\n",
              "                       -1.3598e+00,  8.2809e-01, -5.9216e-01],\n",
              "                      [ 5.0208e-01, -1.2986e-01,  2.9502e-01,  4.7588e-01,  9.8928e-01,\n",
              "                        5.0348e-01, -1.1307e+00,  7.7935e-01],\n",
              "                      [-7.0982e-01, -1.6120e+00, -1.0782e+00, -8.4020e-01,  7.2592e-01,\n",
              "                        4.2104e-01,  1.8587e-01,  1.0621e-01],\n",
              "                      [ 4.3593e-01,  5.6030e-02,  1.4821e+00, -8.8611e-02,  1.0292e+00,\n",
              "                        1.8170e-01, -3.1064e-02, -8.3223e-03],\n",
              "                      [-6.7774e-01, -1.2134e-01, -1.4284e-01, -9.7451e-01,  1.1138e+00,\n",
              "                        1.2515e-01, -6.6774e-02,  5.1169e-01],\n",
              "                      [ 2.3074e-01, -2.4962e+00, -6.6507e-01, -7.9479e-01, -8.5287e-02,\n",
              "                        8.8619e-01,  7.3209e-01, -7.0924e-01],\n",
              "                      [ 4.0543e-02,  1.6022e-02, -8.2518e-02, -1.2673e-01,  7.1216e-01,\n",
              "                        4.7899e-01,  2.0256e-01, -1.2145e+00],\n",
              "                      [ 1.4762e+00,  4.7955e-02,  1.0669e+00, -1.7404e-01,  2.3412e-01,\n",
              "                        3.8834e-01,  8.2922e-02,  2.1302e-01],\n",
              "                      [ 6.9431e-02, -2.6251e-01,  5.8866e-02,  1.5059e-01,  1.3995e-01,\n",
              "                       -4.4505e-02, -2.8984e-01, -5.4502e-02],\n",
              "                      [-1.7830e-01,  4.7502e-02, -1.7692e-01, -1.1772e-02, -1.2082e+00,\n",
              "                       -6.6572e-01,  6.5915e-01,  9.8892e-01],\n",
              "                      [ 1.2900e-01,  1.0421e-01,  2.7367e-01,  1.2388e-01,  9.1788e-01,\n",
              "                        7.1340e-01,  2.5058e-01,  3.2453e-01],\n",
              "                      [-1.3017e-01, -1.2462e+00, -6.1992e-02, -1.7357e+00,  4.4832e-01,\n",
              "                       -3.9516e-03,  1.4829e-01, -6.9852e-04],\n",
              "                      [ 1.0115e-01,  8.1085e-02,  9.4722e-03, -4.2480e-03, -5.2089e-01,\n",
              "                       -1.1185e+00,  5.6155e-01,  5.8261e-01],\n",
              "                      [-2.8313e-02, -5.2031e+00, -4.9634e-01, -1.0124e+00,  2.6840e-01,\n",
              "                       -2.9750e-01, -1.0160e-01,  4.3918e-01],\n",
              "                      [-5.4486e-02,  1.4591e-01, -3.6677e-01,  4.0394e-01, -6.3456e-02,\n",
              "                        1.1243e+00, -1.4667e-01, -1.2510e-01],\n",
              "                      [ 8.4848e-03, -4.3661e-01, -4.6310e-01, -1.2880e-01,  6.8511e-01,\n",
              "                        9.2520e-01,  9.0959e-01, -8.4154e-01],\n",
              "                      [-2.7580e-01, -9.9298e-01,  8.4102e-01,  7.1923e-01,  4.3743e-01,\n",
              "                        1.3116e-01, -3.4278e-01,  8.7962e-01],\n",
              "                      [ 3.3930e-01, -7.3146e-01,  1.3190e+00,  7.1981e-01,  9.1176e-01,\n",
              "                       -1.5568e-01, -4.0152e-01,  5.3539e-01],\n",
              "                      [-6.1054e-01,  8.7501e-01, -1.6173e-01,  2.7496e+00,  2.8949e-01,\n",
              "                        2.6178e-02, -4.1937e-02, -2.7061e-01],\n",
              "                      [ 3.4377e-01, -2.4218e-01,  4.4431e-02,  6.8085e-02,  1.1599e+00,\n",
              "                        3.2672e-01,  5.0682e-01,  4.3238e-01],\n",
              "                      [ 8.8822e-01, -8.9312e-02,  6.7223e-01,  1.6685e-01,  8.8868e-01,\n",
              "                       -2.0451e-01,  1.1849e+00,  6.5539e-02],\n",
              "                      [-2.7110e-01,  1.4813e+00, -4.4830e-01, -5.2263e-01,  7.5274e-01,\n",
              "                       -4.0975e-01, -4.8055e-02, -9.5990e-02],\n",
              "                      [-2.1147e-01, -2.7156e-02,  4.4610e-01,  1.1109e-01, -6.4749e-01,\n",
              "                       -4.8231e-01, -4.5087e-02,  1.1814e+00],\n",
              "                      [ 1.2465e+00,  4.4331e-02,  1.1126e+00, -2.7364e-01,  8.8219e-02,\n",
              "                        5.4833e-01,  1.8298e-01,  2.0041e-01],\n",
              "                      [ 5.8019e-01, -4.1370e-01,  5.7907e-01, -7.3074e-01, -6.4752e-01,\n",
              "                       -7.4091e-01,  7.2084e-01, -2.3331e-01],\n",
              "                      [ 1.2042e-01, -4.6254e-01, -6.4927e-01, -7.0164e-01,  8.3055e-01,\n",
              "                        9.9464e-01,  4.4126e-01, -6.6306e-01],\n",
              "                      [-2.0449e-01, -2.5931e+00,  4.2023e-01,  5.9391e-01,  2.4742e-01,\n",
              "                        1.1103e-01,  7.2325e-01,  6.2800e-01],\n",
              "                      [-1.2992e+00,  7.4827e-01, -1.2050e+00,  4.5975e-01, -9.2847e-01,\n",
              "                       -3.6313e-01,  3.2520e-02, -7.7014e-01],\n",
              "                      [ 4.5771e-02,  1.9077e-01, -1.0998e-02,  7.7164e-02, -1.0454e+00,\n",
              "                       -3.4050e-01,  2.5263e-01,  1.1447e-01],\n",
              "                      [-1.0295e-01, -5.2612e-03,  1.3343e-01,  4.2639e-02, -2.9623e+00,\n",
              "                        1.5122e-02,  1.6806e-01,  1.9982e-01],\n",
              "                      [-3.9019e-01, -1.2576e+00, -9.9752e-01,  2.1205e-01,  2.9341e-01,\n",
              "                        2.1661e-01,  2.9298e-01,  2.7072e-01],\n",
              "                      [ 6.0586e-01, -1.0268e-01, -5.6077e-01, -1.0349e+00, -1.8782e-01,\n",
              "                       -3.9174e-01,  1.2003e-01,  1.2881e-01],\n",
              "                      [-5.4731e-01, -3.8212e-01, -5.1786e-02,  7.2794e-01,  1.2857e-01,\n",
              "                        1.4497e-01,  9.1451e-01,  4.7049e-01],\n",
              "                      [ 1.5399e+00, -4.1451e-02,  7.3826e-01, -2.7802e-01,  2.9612e-01,\n",
              "                        2.0395e-01, -1.6167e-02,  1.7543e-01]], device='cuda:0')),\n",
              "             ('fc1.bias',\n",
              "              tensor([-0.2378, -0.1442,  0.5587,  0.7546, -0.6295, -0.2817,  0.5618, -0.0934,\n",
              "                      -0.3257,  0.5830,  1.0474, -0.4066, -0.8756, -1.0970,  1.5516, -0.1965,\n",
              "                       0.4475, -0.5132, -0.6650, -0.0092, -0.0329, -0.4979, -0.4712, -0.3527,\n",
              "                      -0.4487, -0.3892,  0.0904, -0.4820,  0.0772,  0.3870,  0.8400, -0.6174,\n",
              "                      -0.3560,  0.0534, -0.4978,  0.3054,  0.5760, -0.1704, -0.3354, -0.0693,\n",
              "                       0.8116, -0.3936,  0.0698,  0.7718,  0.2498, -0.0887,  0.2537,  0.7072,\n",
              "                       0.7353,  0.3146,  0.3364,  1.6673, -0.5998, -0.2232, -0.4060, -0.5157,\n",
              "                       1.6908,  0.7125,  0.6547,  0.0153,  0.0032,  0.0091,  1.8779, -0.1284],\n",
              "                     device='cuda:0')),\n",
              "             ('fc2.weight',\n",
              "              tensor([[ 0.3577, -0.0337,  0.2666,  ..., -0.6391,  0.2644,  0.2640],\n",
              "                      [-3.0236,  0.1419, -0.2553,  ...,  0.2584, -0.0223, -0.8396],\n",
              "                      [ 0.2334,  0.2933,  0.2646,  ..., -0.4401,  0.3487,  0.4075],\n",
              "                      ...,\n",
              "                      [ 0.3742,  0.2693,  0.2523,  ..., -0.1837,  0.4020,  0.3413],\n",
              "                      [-1.8413, -0.9143, -0.1699,  ...,  0.2709,  0.5336,  0.1583],\n",
              "                      [ 0.3909,  0.6057,  0.2909,  ..., -0.1204,  0.3915,  0.3677]],\n",
              "                     device='cuda:0')),\n",
              "             ('fc2.bias',\n",
              "              tensor([ 0.4239,  0.2908,  0.2817,  0.5881,  0.3932,  0.3857,  0.6321, -0.0103,\n",
              "                      -0.0153, -0.0996,  0.3405, -0.1298,  0.3234,  0.3442,  0.1360,  1.5891,\n",
              "                      -0.0274,  0.2128,  1.1422,  0.3909,  0.4352,  0.7345, -0.0117,  1.2515,\n",
              "                       0.2964,  0.1553, -0.1131,  0.4211,  0.3930,  0.3117,  0.0740, -0.0209,\n",
              "                       0.3216, -0.3878,  0.3763, -0.1059, -0.6556,  0.2958,  0.3388,  0.5509,\n",
              "                       0.2280, -0.4883, -0.0326,  0.5408, -0.1215,  0.0757, -0.1157, -0.0377,\n",
              "                       0.4287,  0.6555,  0.0179,  0.1933,  0.5132,  0.1094,  0.3644, -0.1412,\n",
              "                       0.2225,  0.4565, -0.0675,  0.3704,  0.1275,  0.3690,  0.8804,  0.4087],\n",
              "                     device='cuda:0')),\n",
              "             ('fc3.weight',\n",
              "              tensor([[-4.0615e-01,  1.6813e+00, -4.5983e-01, -4.3267e-01, -3.3466e-01,\n",
              "                       -4.6421e-01,  4.2145e+00,  5.8634e-02, -9.7175e-02,  5.5467e-02,\n",
              "                       -4.2940e-01, -7.1881e-02, -4.3782e-01, -4.6247e-01, -5.1939e-01,\n",
              "                        3.0154e+00,  5.6838e-02, -5.2604e-01,  1.4142e+00, -3.7285e-01,\n",
              "                       -4.3687e-01, -2.4805e+00,  1.3701e+00,  2.4745e+00, -4.2742e-01,\n",
              "                        1.9322e+00,  8.1850e-02, -5.1783e-01, -5.0725e-01, -5.0791e-01,\n",
              "                        5.1574e-02,  5.6237e-02, -4.0672e-01,  1.0467e+00, -3.5683e-01,\n",
              "                       -1.0754e-01, -1.4230e+00, -3.4166e-01, -4.6685e-01, -4.2268e-01,\n",
              "                       -2.9484e-01, -5.7146e-01,  1.0561e-01,  1.8700e+00,  4.2167e-02,\n",
              "                       -3.2703e-02,  7.4526e-02, -4.9169e-02, -4.9501e-01, -6.2955e-01,\n",
              "                        3.0401e-02, -4.2493e-01, -3.4894e-01, -4.5505e-01, -2.0084e-01,\n",
              "                        5.0935e-02, -4.2042e-01, -3.8656e-01,  1.3229e+00, -3.3295e-01,\n",
              "                       -5.3231e-01, -4.2612e-01,  2.8632e+00, -4.2157e-01],\n",
              "                      [-1.9093e-01,  1.5005e+00, -3.3352e-01, -4.1438e-01, -4.1660e-01,\n",
              "                       -4.6746e-01,  4.0050e+00, -6.7628e-02,  1.1132e-01, -7.0900e-02,\n",
              "                       -5.0857e-01, -4.4338e-02, -1.9672e-01, -4.3389e-01, -6.4360e-01,\n",
              "                        3.3187e+00, -3.2183e-02, -4.0379e-01,  1.3554e+00, -3.7353e-01,\n",
              "                       -3.6025e-01, -2.0310e+00,  1.5756e+00,  2.3017e+00, -4.3647e-01,\n",
              "                        1.8151e+00,  9.6514e-02, -2.9928e-01, -4.6024e-01, -5.1993e-01,\n",
              "                       -4.2229e-02,  2.6333e-02, -3.8407e-01,  8.3579e-01, -3.4483e-01,\n",
              "                        1.2477e-01, -1.9776e+00, -4.2785e-01, -2.9228e-01, -7.0254e-02,\n",
              "                       -6.6152e-01, -1.0454e+00, -2.2511e-02,  2.0559e+00, -6.7061e-02,\n",
              "                        1.0687e-02,  1.0204e-01, -4.4251e-02, -4.1168e-01, -1.3079e+00,\n",
              "                       -1.1405e-02, -1.9714e-01, -2.2567e-01, -8.1301e-01, -5.6494e-01,\n",
              "                       -1.9855e-02, -7.0760e-01, -2.3278e-01,  1.2401e+00, -4.8481e-01,\n",
              "                       -7.0367e-01, -2.1653e-01,  2.9031e+00, -3.6988e-01],\n",
              "                      [-6.9899e-01,  6.9508e-01, -5.5915e-01, -2.1482e-01,  3.0541e-02,\n",
              "                       -2.9511e-01,  3.8943e+00,  6.8320e-02,  6.3506e-02,  4.6118e-02,\n",
              "                       -3.2497e-01,  1.8698e-02, -4.3866e-01, -4.5111e-01, -7.2893e-01,\n",
              "                        2.3882e+00,  9.4930e-03, -5.7592e-01,  1.8802e+00, -5.0226e-01,\n",
              "                       -8.9205e-02, -2.1190e+00,  1.0647e+00,  2.9856e+00, -3.8408e-01,\n",
              "                        1.0424e+00, -1.1049e-01, -5.7392e-01, -5.9890e-01, -1.6524e-01,\n",
              "                       -5.3678e-02,  7.1273e-02, -3.7161e-01,  1.7063e+00, -2.7785e-01,\n",
              "                       -5.0585e-02, -1.6334e+00, -5.4619e-01, -4.6305e-01, -5.2910e-01,\n",
              "                       -3.7802e-01, -1.3988e+00, -4.8354e-02,  2.8990e+00,  1.0619e-02,\n",
              "                        1.9064e-02, -5.2868e-02, -1.0334e-01, -3.3950e-01, -9.0645e-01,\n",
              "                       -1.0379e-01, -7.4027e-01, -1.1793e+00, -8.6264e-01, -2.2939e-01,\n",
              "                        2.5411e-02, -2.1230e-01, -5.1688e-01,  1.8690e+00, -9.4108e-02,\n",
              "                       -3.2628e-01, -5.5956e-01,  2.4254e+00, -4.4337e-01],\n",
              "                      [-4.0387e-01,  1.6761e+00, -3.6502e-01, -5.4792e-01, -4.1025e-01,\n",
              "                       -3.9063e-01,  4.2224e+00, -6.4045e-02, -4.1822e-03, -1.2789e-02,\n",
              "                       -4.1875e-01, -2.4883e-03, -3.5559e-01, -4.6566e-01, -5.1413e-02,\n",
              "                        2.2365e+00, -1.6443e-02, -3.2144e-01,  3.2639e+00, -4.7694e-01,\n",
              "                       -4.7037e-01, -2.6290e+00,  1.2813e+00,  2.1076e+00, -4.2097e-01,\n",
              "                        1.6084e+00, -5.3082e-02, -5.6754e-01, -5.3153e-01, -4.3457e-01,\n",
              "                        9.2109e-02, -9.7019e-02, -3.7794e-01,  1.4761e+00, -5.5703e-01,\n",
              "                       -7.5870e-02, -1.1479e+00, -4.6976e-01, -4.8060e-01, -4.7248e-01,\n",
              "                       -2.9830e-01, -3.9714e-01,  7.5389e-03,  2.0992e+00,  1.0232e-01,\n",
              "                       -1.1884e-01,  3.8652e-02, -2.1310e-02, -4.5326e-01, -3.1556e-01,\n",
              "                       -1.3895e-01, -5.0290e-01, -4.4449e-01, -2.8918e-01, -4.3826e-01,\n",
              "                        4.1805e-03, -2.5378e-01, -4.2858e-01,  1.0005e+00, -4.5705e-01,\n",
              "                       -2.0763e-01, -5.5849e-01,  2.6977e+00, -4.5412e-01]], device='cuda:0')),\n",
              "             ('fc3.bias',\n",
              "              tensor([-0.0149,  0.1994,  0.2821, -1.1853], device='cuda:0'))])"
            ]
          },
          "execution_count": 44,
          "metadata": {},
          "output_type": "execute_result"
        }
      ],
      "source": [
        "torch.load('checkpoint.pth')"
      ]
    },
    {
      "cell_type": "code",
      "execution_count": null,
      "metadata": {
        "id": "DacjSu-0SS4Z"
      },
      "outputs": [],
      "source": [
        "def show_video(env_name):\n",
        "    mp4list = glob.glob('video/*.mp4')\n",
        "    if len(mp4list) > 0:\n",
        "        mp4 = 'video/{}.mp4'.format(env_name)\n",
        "        video = io.open(mp4, 'r+b').read()\n",
        "        encoded = base64.b64encode(video)\n",
        "        display.display(HTML(data='''<video alt=\"test\" autoplay \n",
        "                loop controls style=\"height: 400px;\">\n",
        "                <source src=\"data:video/mp4;base64,{0}\" type=\"video/mp4\" />\n",
        "             </video>'''.format(encoded.decode('ascii'))))\n",
        "    else:\n",
        "        print(\"Could not find video\")\n",
        "        \n",
        "def show_video_of_model(agent, env_name):\n",
        "    env = gym.make(env_name)\n",
        "    vid = video_recorder.VideoRecorder(env, path=\"video/{}.mp4\".format(env_name))\n",
        "    agent.qnetwork_local.load_state_dict(torch.load('checkpoint.pth'))\n",
        "    state = env.reset()\n",
        "    done = False\n",
        "    while not done:\n",
        "        frame = env.render(mode='rgb_array')\n",
        "        vid.capture_frame()\n",
        "        action = agent.act(state)\n",
        "        state, reward, done, _ = env.step(action)        \n",
        "    env.close()"
      ]
    },
    {
      "cell_type": "code",
      "execution_count": null,
      "metadata": {
        "id": "8DpJXNfdCgtJ"
      },
      "outputs": [],
      "source": [
        "device = torch.device(\"cuda:0\" if torch.cuda.is_available() else \"cpu\")"
      ]
    },
    {
      "cell_type": "markdown",
      "metadata": {
        "id": "IVnTSUYqIbPD"
      },
      "source": [
        "## Baseline Model"
      ]
    },
    {
      "cell_type": "code",
      "execution_count": null,
      "metadata": {
        "id": "lycwnX7tLv75"
      },
      "outputs": [],
      "source": [
        "# hyperparameters\n",
        "gamma = 0.77 \n",
        "lr = 0.001 \n",
        "batch_size=128"
      ]
    },
    {
      "cell_type": "code",
      "execution_count": null,
      "metadata": {
        "colab": {
          "base_uri": "https://localhost:8080/"
        },
        "id": "9EZQCeGPKwBX",
        "outputId": "ed2278a8-a9b0-4d0b-dca5-8e78c9043ab6"
      },
      "outputs": [
        {
          "name": "stdout",
          "output_type": "stream",
          "text": [
            "Episode 100\tAverage Score: -126.69\n",
            "Episode 200\tAverage Score: -92.18\n",
            "Episode 300\tAverage Score: -51.87\n",
            "Episode 400\tAverage Score: -54.63\n",
            "Episode 500\tAverage Score: 25.49\n",
            "Episode 600\tAverage Score: 13.76\n",
            "Episode 700\tAverage Score: 30.63\n",
            "Episode 800\tAverage Score: 34.76\n",
            "Episode 900\tAverage Score: 15.71\n",
            "Episode 1000\tAverage Score: 14.42\n",
            "Episode 1100\tAverage Score: -25.21\n",
            "Episode 1200\tAverage Score: -4.36\n",
            "Episode 1300\tAverage Score: -29.35\n",
            "Episode 1400\tAverage Score: -26.60\n",
            "Episode 1500\tAverage Score: -38.34\n",
            "Episode 1600\tAverage Score: -13.89\n",
            "Episode 1700\tAverage Score: -3.74\n",
            "Episode 1800\tAverage Score: -34.19\n",
            "Episode 1900\tAverage Score: 12.37\n",
            "Episode 2000\tAverage Score: 25.91\n"
          ]
        }
      ],
      "source": [
        "agent = Agent(state_size=8, action_size=4, seed=0, gamma=gamma, lr=lr, batch_size=batch_size)\n",
        "scores , avg_scores, goals = dqn(n_episodes=2000, max_t=1000, eps_start=1.0, eps_end=0.01, eps_decay=0.99)"
      ]
    },
    {
      "cell_type": "code",
      "execution_count": null,
      "metadata": {
        "colab": {
          "base_uri": "https://localhost:8080/",
          "height": 414
        },
        "id": "dQj9okK-Kv91",
        "outputId": "cf57a815-a109-4ed0-9e8e-775a641573a8"
      },
      "outputs": [
        {
          "data": {
            "image/png": "[encoded data removed]",
            "text/plain": [
              "<Figure size 720x432 with 1 Axes>"
            ]
          },
          "metadata": {
            "needs_background": "light"
          },
          "output_type": "display_data"
        }
      ],
      "source": [
        "#visualize model performance\n",
        "fig = plt.figure(figsize=(10,6))\n",
        "plt.plot(np.arange(len(scores)), scores, marker='', color='blue', linewidth=2, label='Score')\n",
        "plt.plot(avg_scores, marker='', color='orange', linewidth=2, linestyle='dashed', label='AverageScore')\n",
        "plt.plot(np.arange(len(scores)), goals, marker='', color='red', linewidth=2, linestyle='dashed', label='Target Requirement')\n",
        "\n",
        "plt.title('Model Performance', fontsize=20)\n",
        "plt.ylabel('Score', fontsize=16)\n",
        "plt.xlabel('Episode', fontsize=16)\n",
        "plt.legend()\n",
        "plt.show()"
      ]
    },
    {
      "cell_type": "markdown",
      "metadata": {
        "id": "8b_JOMIBoQV9"
      },
      "source": [
        "### Insights\n",
        "* The baseline model performs `badly` with the highest average score of 25.91 through 2000 episodes.\n",
        "\n",
        "* The average score diverges and oscillates dramatically.\n",
        "\n",
        "* From the graph, we can see that there are many `spikes` towards the negative scale, which shows that the Lunar Lander `crashed` or `hit the pole`.\n"
      ]
    },
    {
      "cell_type": "code",
      "execution_count": null,
      "metadata": {
        "colab": {
          "base_uri": "https://localhost:8080/"
        },
        "id": "EerLtlqpKv7h",
        "outputId": "176fbed3-9a77-496f-dceb-dd84837db1c3"
      },
      "outputs": [
        {
          "name": "stdout",
          "output_type": "stream",
          "text": [
            "Could not find video\n"
          ]
        }
      ],
      "source": [
        "# show_video_of_model(agent, 'LunarLander-v2')\n",
        "show_video('LunarLander-v2')"
      ]
    },
    {
      "cell_type": "markdown",
      "metadata": {
        "id": "XJLOJNpNKwlm"
      },
      "source": [
        "# 3 Model Improvement"
      ]
    },
    {
      "cell_type": "markdown",
      "metadata": {
        "id": "JrcQRupXnwSV"
      },
      "source": [
        "* Batch sizes 10, 120, 500, 1000 \n",
        "* Gamma lists 0.22, 0.55, 0.77, 0.99\n",
        "* Alpha values 0.00025, 0.001, 0.01, 0.1\n",
        "* Epsilon Decay 0.999, 0.99, 0.9, 0.1\n",
        "* Target Model Update Frequency rates 1,50,125,500"
      ]
    },
    {
      "cell_type": "markdown",
      "metadata": {
        "id": "PYRZZfNm6adk"
      },
      "source": [
        "## Experiment 1: Decrease learning rate\n",
        "* Improve the convergence `stability` of the model during training"
      ]
    },
    {
      "cell_type": "code",
      "execution_count": null,
      "metadata": {
        "id": "Lrdqqda36eiM"
      },
      "outputs": [],
      "source": [
        "# hyperparameters\n",
        "gamma = 0.77\n",
        "lr = 0.0001 \n",
        "batch_size = 128"
      ]
    },
    {
      "cell_type": "code",
      "execution_count": null,
      "metadata": {
        "colab": {
          "base_uri": "https://localhost:8080/"
        },
        "id": "5rDND2pi6f9K",
        "outputId": "953fc688-5d00-4c22-c53d-43fe90fa054c"
      },
      "outputs": [
        {
          "name": "stdout",
          "output_type": "stream",
          "text": [
            "Episode 100\tAverage Score: -166.07\n",
            "Episode 200\tAverage Score: -146.94\n",
            "Episode 300\tAverage Score: -134.70\n",
            "Episode 400\tAverage Score: -102.56\n",
            "Episode 500\tAverage Score: -64.71\n",
            "Episode 600\tAverage Score: -68.79\n",
            "Episode 700\tAverage Score: -33.29\n",
            "Episode 800\tAverage Score: -87.73\n",
            "Episode 900\tAverage Score: -60.85\n",
            "Episode 1000\tAverage Score: -69.35\n",
            "Episode 1100\tAverage Score: -76.23\n",
            "Episode 1200\tAverage Score: -33.20\n",
            "Episode 1300\tAverage Score: -61.01\n",
            "Episode 1400\tAverage Score: -35.20\n",
            "Episode 1500\tAverage Score: -48.89\n",
            "Episode 1600\tAverage Score: -2.70\n",
            "Episode 1700\tAverage Score: 7.55\n",
            "Episode 1800\tAverage Score: 26.61\n",
            "Episode 1900\tAverage Score: 33.49\n",
            "Episode 2000\tAverage Score: 23.10\n"
          ]
        }
      ],
      "source": [
        "agent = Agent(state_size=8, action_size=4, seed=0, gamma=gamma, lr=lr, batch_size=batch_size)\n",
        "scores , avg_scores, goals = dqn(n_episodes=2000, max_t=1000, eps_start=1.0, eps_end=0.01, eps_decay=0.995)"
      ]
    },
    {
      "cell_type": "markdown",
      "metadata": {
        "id": "UdjxwU1PpFo6"
      },
      "source": [
        "### Insights\n",
        "* To reduce oscillation and `improve` the `stability` of the model during training\n",
        "\n",
        "* As shown in the performance graph, the `spikes` are `gone`. \n",
        "\n",
        "* The model is able to `converge better` as compared to the baseline model\n",
        "\n",
        "* However, there are still some `landing failures` occurred during the training \n",
        "> ie. Episode 1300 to 1400 (from 3.31 to -19.74)\n",
        ">\n",
        "> Episode 1500 to episode 1600 (from 24.49 to -2.38)\n"
      ]
    },
    {
      "cell_type": "markdown",
      "metadata": {
        "id": "ZI1DGMPDd-G5"
      },
      "source": [
        "## Experiment 2: Increase gamma\n",
        "* The larger the gamma, the smaller the discount. This means the learning agent cares more about the `long term` reward.\n"
      ]
    },
    {
      "cell_type": "code",
      "execution_count": null,
      "metadata": {
        "id": "AlSJOeEsd_ML"
      },
      "outputs": [],
      "source": [
        "# hyperparameters\n",
        "gamma = 0.99 \n",
        "lr = 0.0001 \n",
        "batch_size = 128"
      ]
    },
    {
      "cell_type": "code",
      "execution_count": null,
      "metadata": {
        "colab": {
          "base_uri": "https://localhost:8080/"
        },
        "id": "PjapRiZjeAez",
        "outputId": "798f52b2-7708-4a3a-8c9b-4ef9d33c93c5"
      },
      "outputs": [
        {
          "name": "stdout",
          "output_type": "stream",
          "text": [
            "Episode 100\tAverage Score: -208.46\n",
            "Episode 200\tAverage Score: -211.22\n",
            "Episode 300\tAverage Score: -142.05\n",
            "Episode 400\tAverage Score: -43.85\n",
            "Episode 500\tAverage Score: -35.62\n",
            "Episode 600\tAverage Score: -1.31\n",
            "Episode 700\tAverage Score: 25.54\n",
            "Episode 800\tAverage Score: 11.02\n",
            "Episode 900\tAverage Score: -31.20\n",
            "Episode 1000\tAverage Score: -43.95\n",
            "Episode 1100\tAverage Score: -48.05\n",
            "Episode 1200\tAverage Score: -32.08\n",
            "Episode 1300\tAverage Score: -24.09\n",
            "Episode 1400\tAverage Score: 1.41\n",
            "Episode 1500\tAverage Score: 0.65\n",
            "Episode 1600\tAverage Score: 85.43\n",
            "Episode 1700\tAverage Score: 40.32\n",
            "Episode 1800\tAverage Score: -20.33\n",
            "Episode 1900\tAverage Score: -48.30\n",
            "Episode 2000\tAverage Score: -49.82\n"
          ]
        }
      ],
      "source": [
        "agent = Agent(state_size=8, action_size=4, seed=0, gamma=gamma, lr=lr, batch_size=batch_size)\n",
        "scores , avg_scores, goals = dqn(n_episodes=2000, max_t=1000, eps_start=1.0, eps_end=0.01, eps_decay=0.995)"
      ]
    },
    {
      "cell_type": "code",
      "execution_count": null,
      "metadata": {
        "colab": {
          "base_uri": "https://localhost:8080/",
          "height": 414
        },
        "id": "QUNgScxa-ZZ-",
        "outputId": "041fabb0-0887-4f54-b41b-a224c042c768"
      },
      "outputs": [
        {
          "data": {
            "image/png": "[encoded data removed]",
            "text/plain": [
              "<Figure size 720x432 with 1 Axes>"
            ]
          },
          "metadata": {
            "needs_background": "light"
          },
          "output_type": "display_data"
        }
      ],
      "source": [
        "# plot the scores\n",
        "fig = plt.figure(figsize=(10,6))\n",
        "\n",
        "plt.plot(np.arange(len(scores)), scores, marker='', color='blue', linewidth=2, label='Score')\n",
        "plt.plot(avg_scores, marker='', color='orange', linewidth=2, linestyle='dashed', label='AverageScore')\n",
        "plt.plot(np.arange(len(scores)), goals, marker='', color='red', linewidth=2, linestyle='dashed', label='Target Requirement')\n",
        "\n",
        "plt.title('Model Performance', fontsize=20)\n",
        "plt.ylabel('Score', fontsize=16)\n",
        "plt.xlabel('Episode', fontsize=16)\n",
        "plt.legend()\n",
        "plt.show()"
      ]
    },
    {
      "cell_type": "markdown",
      "metadata": {
        "id": "unOVeZ81onxm"
      },
      "source": [
        "### Insights\n",
        "* The `larger` the gamma, the `smaller` the discount. This means the learning agent cares more about the long term reward.\n",
        "\n",
        "* The variance of the average score also `decreases`.\n",
        "\n",
        "* The average scores are still `far` from the target score set, which is 250.\n",
        "\n",
        "* The neural network might have difficulties in finding the `optimal global minima`, therefore we `increased` the `learning rate` slightly in the next experiment."
      ]
    },
    {
      "cell_type": "markdown",
      "metadata": {
        "id": "uZDNwFoiLMkj"
      },
      "source": [
        "## Experiment 3: Increasing learning rate to find global minima"
      ]
    },
    {
      "cell_type": "code",
      "execution_count": null,
      "metadata": {
        "id": "vrcH2cIGayS-"
      },
      "outputs": [],
      "source": [
        "# hyperparameters\n",
        "gamma = 0.99 \n",
        "lr = 0.0007\n",
        "batch_size=64"
      ]
    },
    {
      "cell_type": "code",
      "execution_count": null,
      "metadata": {
        "colab": {
          "base_uri": "https://localhost:8080/"
        },
        "id": "sTKRipujavE2",
        "outputId": "a58f1f85-6d06-4a95-ad16-996efbb5fc09"
      },
      "outputs": [
        {
          "name": "stdout",
          "output_type": "stream",
          "text": [
            "Episode 100\tAverage Score: -186.16\n",
            "Episode 200\tAverage Score: -147.02\n",
            "Episode 300\tAverage Score: -104.69\n",
            "Episode 400\tAverage Score: -34.67\n",
            "Episode 500\tAverage Score: -28.03\n",
            "Episode 600\tAverage Score: -20.91\n",
            "Episode 700\tAverage Score: -9.17\n",
            "Episode 800\tAverage Score: 51.07\n",
            "Episode 900\tAverage Score: 140.73\n",
            "Episode 1000\tAverage Score: 191.97\n",
            "Episode 1100\tAverage Score: 198.47\n",
            "Episode 1200\tAverage Score: 195.50\n",
            "Episode 1300\tAverage Score: 234.34\n",
            "Episode 1400\tAverage Score: 234.91\n",
            "Episode 1500\tAverage Score: 234.25\n",
            "Episode 1600\tAverage Score: 232.35\n",
            "Episode 1700\tAverage Score: 227.62\n",
            "Episode 1800\tAverage Score: 237.39\n",
            "Episode 1900\tAverage Score: 230.10\n",
            "Episode 2000\tAverage Score: 245.32\n"
          ]
        }
      ],
      "source": [
        "agent = Agent(state_size=8, action_size=4, seed=0, gamma=gamma, lr=lr, batch_size=batch_size)\n",
        "scores , avg_scores, goals = dqn(n_episodes=2000, max_t=1000, eps_start=1.0, eps_end=0.01, eps_decay=0.995)"
      ]
    },
    {
      "cell_type": "code",
      "execution_count": null,
      "metadata": {
        "colab": {
          "base_uri": "https://localhost:8080/",
          "height": 414
        },
        "id": "lUlnronnOvEn",
        "outputId": "528e5ba6-9bcf-43a0-edd7-875b488577b8"
      },
      "outputs": [
        {
          "data": {
            "image/png": "[encoded data removed]",
            "text/plain": [
              "<Figure size 720x432 with 1 Axes>"
            ]
          },
          "metadata": {
            "needs_background": "light"
          },
          "output_type": "display_data"
        }
      ],
      "source": [
        "# plot the scores\n",
        "fig = plt.figure(figsize=(10,6))\n",
        "\n",
        "plt.plot(np.arange(len(scores)), scores, marker='', color='blue', linewidth=2, label='Score')\n",
        "plt.plot(avg_scores, marker='', color='orange', linewidth=2, linestyle='dashed', label='AverageScore')\n",
        "plt.plot(np.arange(len(scores)), goals, marker='', color='red', linewidth=2, linestyle='dashed', label='Target Requirement')\n",
        "\n",
        "plt.title('Model Performance', fontsize=20)\n",
        "plt.ylabel('Score', fontsize=16)\n",
        "plt.xlabel('Episode', fontsize=16)\n",
        "plt.legend()\n",
        "plt.show()"
      ]
    },
    {
      "cell_type": "markdown",
      "metadata": {
        "id": "j42eIgpYo6q7"
      },
      "source": [
        "### Insights\n",
        "* This is the best set of hyperparameters among all experiments.\n",
        "* The Lunar Lander managed to land perfectly on the landing pad with an average score of 200 and above starting from Episode 600 and continues to increase for the rest of the episodes.\n",
        "* It reaches our target score of 250 at the 1539th episode. "
      ]
    },
    {
      "cell_type": "markdown",
      "metadata": {
        "id": "_00smLd6cBxt"
      },
      "source": [
        "# 4 Conclusion and key takeaways\n",
        "* Hyperparameters such as `learning rate` and `gamma` are crucial in training the Agent. By having a learning rate of 0.001, the Lunar Lander is not able to perform well and faces difficulties in converging. Threfore, we reduced the learning rate and tuned some of th ehyperparameters such as batch size.\n",
        "\n",
        "* After experimenting several sets of hyperparameters and changing the CNN layers, we managed to `reach` our `goal` of the project, which is to train a Lunar Lander that can `lands properly` and has an `average score` of 200 and above for a continuous of 1000 episodes.\n",
        "\n",
        "* `Reinforcement Learning` is one of the `most exciting` field of AI among all that we have explored.\n",
        "\n",
        "*  It is also a challenging task to implement RL algorithm as the Agent learns from scratch (wihout any prior knwoledge).\n",
        "\n",
        "* In future, we would like to `discover more` on the application of Reinforcement Learning and try to create a `RL game`."
      ]
    }
  ],
  "metadata": {
    "accelerator": "GPU",
    "colab": {
      "collapsed_sections": [],
      "machine_shape": "hm",
      "name": "Untitled0.ipynb",
      "provenance": []
    },
    "kernelspec": {
      "display_name": "Python 3",
      "name": "python3"
    },
    "language_info": {
      "name": "python"
    }
  },
  "nbformat": 4,
  "nbformat_minor": 0
}
